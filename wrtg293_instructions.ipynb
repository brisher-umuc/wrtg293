{
 "metadata": {
  "name": "",
  "signature": "sha256:ffc031c1f59a12ccc0e2e8ecd64e89353b857ddf84e8ff787a7ee3330dc6722e"
 },
 "nbformat": 3,
 "nbformat_minor": 0,
 "worksheets": [
  {
   "cells": [
    {
     "cell_type": "heading",
     "level": 1,
     "metadata": {},
     "source": [
      "WRTG293 Instructions:  Your first bar graph."
     ]
    },
    {
     "cell_type": "heading",
     "level": 3,
     "metadata": {},
     "source": [
      "Import your Dependencies"
     ]
    },
    {
     "cell_type": "code",
     "collapsed": false,
     "input": [
      "%pylab inline\n",
      "import random"
     ],
     "language": "python",
     "metadata": {},
     "outputs": [
      {
       "output_type": "stream",
       "stream": "stdout",
       "text": [
        "Populating the interactive namespace from numpy and matplotlib\n"
       ]
      }
     ],
     "prompt_number": 1
    },
    {
     "cell_type": "heading",
     "level": 3,
     "metadata": {},
     "source": [
      "Initialize your variables."
     ]
    },
    {
     "cell_type": "code",
     "collapsed": false,
     "input": [
      "STUDENTS = ['Ben', 'Sarah', 'John','Dummy', 'Kira', 'Noah', 'Sally', 'Adam', 'Eve', 'Smarty', 'Mark', 'Justin', 'Brad']\n",
      "NUMBER_OF_GRADES = 5\n",
      "avg_grades = []"
     ],
     "language": "python",
     "metadata": {},
     "outputs": [],
     "prompt_number": 2
    },
    {
     "cell_type": "heading",
     "level": 3,
     "metadata": {},
     "source": [
      "Simulate student grades."
     ]
    },
    {
     "cell_type": "code",
     "collapsed": false,
     "input": [
      "for student in STUDENTS:  # iterates through STUDENTS, one name at a time\n",
      "    cumulative_score = 0\n",
      "    if student == 'Dummy':  # setting up an outlier\n",
      "        avg_grades.append(12.7)\n",
      "    elif student == 'Smarty':  # and another at the opposite end of the spectrum\n",
      "        avg_grades.append(99.3)\n",
      "    else:\n",
      "        for loop in range(NUMBER_OF_GRADES):  # loop 10 times\n",
      "            # produce a random number between 60 and 100, and add it to cumulative_score\n",
      "            cumulative_score += random.randrange(60,100)  \n",
      "        #after 10 random 'grades' of between 60 and 100, take the average and store it in the list named avg_grades\n",
      "        avg_grades.append(cumulative_score / float(NUMBER_OF_GRADES))"
     ],
     "language": "python",
     "metadata": {},
     "outputs": [],
     "prompt_number": 3
    },
    {
     "cell_type": "heading",
     "level": 3,
     "metadata": {},
     "source": [
      "Generate your graph."
     ]
    },
    {
     "cell_type": "code",
     "collapsed": false,
     "input": [
      "fig, ax = subplots()\n",
      "bar(range(len(STUDENTS)), avg_grades, align='center', color='orange')  # build the bar graph\n",
      "xticks(range(len(STUDENTS)), STUDENTS, size='medium', rotation=45)  # explicitly define the x-axis tick labels\n",
      "ax.set_xlabel('Students')  # label the x-axis\n",
      "ax.set_ylabel('Average Grade')  # label the y-axis\n",
      "tight_layout()  # make it pretty"
     ],
     "language": "python",
     "metadata": {},
     "outputs": [
      {
       "metadata": {},
       "output_type": "display_data",
       "png": "[encoded data removed]",
       "text": [
        "<matplotlib.figure.Figure at 0x7f6133cae790>"
       ]
      }
     ],
     "prompt_number": 4
    },
    {
     "cell_type": "code",
     "collapsed": false,
     "input": [],
     "language": "python",
     "metadata": {},
     "outputs": [],
     "prompt_number": 5
    },
    {
     "cell_type": "code",
     "collapsed": false,
     "input": [],
     "language": "python",
     "metadata": {},
     "outputs": []
    }
   ],
   "metadata": {}
  }
 ]
}